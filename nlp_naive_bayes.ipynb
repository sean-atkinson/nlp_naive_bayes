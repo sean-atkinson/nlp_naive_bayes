{
 "cells": [
  {
   "cell_type": "markdown",
   "metadata": {},
   "source": [
    "# NLP, Naive Bayes, Cambridge Analytica, and Facebook"
   ]
  },
  {
   "cell_type": "markdown",
   "metadata": {},
   "source": [
    "![Cambridge Analytica logo on a phone in the foreground, with Facebook's logo in the background](https://imgur.com/mNXuoXU.jpg)\n",
    "*Getty Images*"
   ]
  },
  {
   "cell_type": "code",
   "execution_count": 198,
   "metadata": {},
   "outputs": [
    {
     "data": {
      "text/html": [
       "<style>.container { width:100% !important; }</style>"
      ],
      "text/plain": [
       "<IPython.core.display.HTML object>"
      ]
     },
     "metadata": {},
     "output_type": "display_data"
    }
   ],
   "source": [
    "import pandas as pd\n",
    "from sklearn.pipeline import Pipeline\n",
    "from sklearn.model_selection import train_test_split, GridSearchCV\n",
    "from sklearn.linear_model import LogisticRegression\n",
    "\n",
    "import matplotlib.pyplot as plt\n",
    "\n",
    "# Import CountVectorizer and TFIDFVectorizer from feature_extraction.text.\n",
    "from sklearn.feature_extraction.text import CountVectorizer, TfidfVectorizer\n",
    "from sklearn.naive_bayes import MultinomialNB, BernoulliNB, GaussianNB\n",
    "\n",
    "pd.options.display.max_rows = 200 #increasing maximum viewable rows and columns\n",
    "pd.options.display.max_columns = 200\n",
    "\n",
    "from IPython.core.display import display, HTML\n",
    "display(HTML(\"<style>.container { width:100% !important; }</style>\"))"
   ]
  },
  {
   "cell_type": "markdown",
   "metadata": {},
   "source": [
    "The data science process:\n",
    "1. Define the problem.\n",
    "2. Obtain the data.\n",
    "3. Explore the data.\n",
    "4. Model the data.\n",
    "5. Evaluate the model.\n",
    "6. Answer the problem."
   ]
  },
  {
   "cell_type": "markdown",
   "metadata": {},
   "source": [
    "## Step 1: Define the problem.\n",
    "\n",
    "Many organizations have a substantial interest in classifying users of their product into groups. \n",
    "\n",
    "With that in mind, let's place ourselves in the shoes of a Facebook engineer.\n",
    "\n",
    "Many of us are familiar with the whole Cambridge Analytica and how it tarnished Facebook's reputation since they were able to use Facebook's data in a bid to sway electoral outcomes.\n",
    "\n",
    "Cambridge Analytica, an organization staffed with lots of Ph.D. researchers, used the Big5 personality groupings (also called OCEAN) to group people into one of 32 different groups.\n",
    "- The five qualities measured by this personality assessment are:\n",
    "    - **O**penness\n",
    "    - **C**onscientiousness\n",
    "    - **E**xtroversion\n",
    "    - **A**greeableness\n",
    "    - **N**euroticism\n",
    "- Each person could be classified as \"Yes\" or \"No\" for each of the five qualities.\n",
    "- This makes for 32 different potential combinations of qualities. ($2^5 = 32$)\n",
    "- You can learn more on [Wikipedia](https://en.wikipedia.org/wiki/Big_Five_personality_traits) about the Big5 personality traits.\n",
    "- There's also [a short (3-4 pages) academic paper describing part of this approach](./celli-al_wcpr13.pdf) if you're *really* interested.\n",
    "\n",
    "Cambridge Analytica's methodology was, roughly, as follows:\n",
    "- Gather a large amount of data from Facebook.\n",
    "- Use this data to predict an individual's Big5 personality \"grouping.\"\n",
    "- Design political advertisements that would be particularly effective to that particular \"grouping.\" (For example, are certain advertisements particularly effective toward people with specific personality traits?)\n",
    "\n",
    "You want to know the **real-world problem**: \"Is what Cambridge Analytica attempted to do actually possible, or is it junk science?\"\n",
    "\n",
    "However, we'll solve the related **data science problem**: \"Are one's Facebook statuses predictive of whether or not one is agreeable?\"\n",
    "> Note: If Facebook statuses aren't predictive of one being agreeable (one of the OCEAN qualities), then Cambridge Analytica's approach won't work very well!"
   ]
  },
  {
   "cell_type": "markdown",
   "metadata": {},
   "source": [
    "## Step 2: Obtain the data.\n",
    "\n",
    "Obviously, there are plenty of opportunities to discuss the ethics surrounding this particular issue... so let's do that."
   ]
  },
  {
   "cell_type": "code",
   "execution_count": 199,
   "metadata": {},
   "outputs": [],
   "source": [
    "import pandas as pd"
   ]
  },
  {
   "cell_type": "code",
   "execution_count": 200,
   "metadata": {},
   "outputs": [],
   "source": [
    "data = pd.read_csv('./mypersonality_final.csv', encoding = 'ISO-8859-1')"
   ]
  },
  {
   "cell_type": "code",
   "execution_count": 201,
   "metadata": {},
   "outputs": [
    {
     "data": {
      "text/html": [
       "<div>\n",
       "<style scoped>\n",
       "    .dataframe tbody tr th:only-of-type {\n",
       "        vertical-align: middle;\n",
       "    }\n",
       "\n",
       "    .dataframe tbody tr th {\n",
       "        vertical-align: top;\n",
       "    }\n",
       "\n",
       "    .dataframe thead th {\n",
       "        text-align: right;\n",
       "    }\n",
       "</style>\n",
       "<table border=\"1\" class=\"dataframe\">\n",
       "  <thead>\n",
       "    <tr style=\"text-align: right;\">\n",
       "      <th></th>\n",
       "      <th>#AUTHID</th>\n",
       "      <th>STATUS</th>\n",
       "      <th>sEXT</th>\n",
       "      <th>sNEU</th>\n",
       "      <th>sAGR</th>\n",
       "      <th>sCON</th>\n",
       "      <th>sOPN</th>\n",
       "      <th>cEXT</th>\n",
       "      <th>cNEU</th>\n",
       "      <th>cAGR</th>\n",
       "      <th>cCON</th>\n",
       "      <th>cOPN</th>\n",
       "      <th>DATE</th>\n",
       "      <th>NETWORKSIZE</th>\n",
       "      <th>BETWEENNESS</th>\n",
       "      <th>NBETWEENNESS</th>\n",
       "      <th>DENSITY</th>\n",
       "      <th>BROKERAGE</th>\n",
       "      <th>NBROKERAGE</th>\n",
       "      <th>TRANSITIVITY</th>\n",
       "    </tr>\n",
       "  </thead>\n",
       "  <tbody>\n",
       "    <tr>\n",
       "      <th>0</th>\n",
       "      <td>b7b7764cfa1c523e4e93ab2a79a946c4</td>\n",
       "      <td>likes the sound of thunder.</td>\n",
       "      <td>2.65</td>\n",
       "      <td>3.0</td>\n",
       "      <td>3.15</td>\n",
       "      <td>3.25</td>\n",
       "      <td>4.4</td>\n",
       "      <td>n</td>\n",
       "      <td>y</td>\n",
       "      <td>n</td>\n",
       "      <td>n</td>\n",
       "      <td>y</td>\n",
       "      <td>06/19/09 03:21 PM</td>\n",
       "      <td>180.0</td>\n",
       "      <td>14861.6</td>\n",
       "      <td>93.29</td>\n",
       "      <td>0.03</td>\n",
       "      <td>15661.0</td>\n",
       "      <td>0.49</td>\n",
       "      <td>0.1</td>\n",
       "    </tr>\n",
       "    <tr>\n",
       "      <th>1</th>\n",
       "      <td>b7b7764cfa1c523e4e93ab2a79a946c4</td>\n",
       "      <td>is so sleepy it's not even funny that's she ca...</td>\n",
       "      <td>2.65</td>\n",
       "      <td>3.0</td>\n",
       "      <td>3.15</td>\n",
       "      <td>3.25</td>\n",
       "      <td>4.4</td>\n",
       "      <td>n</td>\n",
       "      <td>y</td>\n",
       "      <td>n</td>\n",
       "      <td>n</td>\n",
       "      <td>y</td>\n",
       "      <td>07/02/09 08:41 AM</td>\n",
       "      <td>180.0</td>\n",
       "      <td>14861.6</td>\n",
       "      <td>93.29</td>\n",
       "      <td>0.03</td>\n",
       "      <td>15661.0</td>\n",
       "      <td>0.49</td>\n",
       "      <td>0.1</td>\n",
       "    </tr>\n",
       "    <tr>\n",
       "      <th>2</th>\n",
       "      <td>b7b7764cfa1c523e4e93ab2a79a946c4</td>\n",
       "      <td>is sore and wants the knot of muscles at the b...</td>\n",
       "      <td>2.65</td>\n",
       "      <td>3.0</td>\n",
       "      <td>3.15</td>\n",
       "      <td>3.25</td>\n",
       "      <td>4.4</td>\n",
       "      <td>n</td>\n",
       "      <td>y</td>\n",
       "      <td>n</td>\n",
       "      <td>n</td>\n",
       "      <td>y</td>\n",
       "      <td>06/15/09 01:15 PM</td>\n",
       "      <td>180.0</td>\n",
       "      <td>14861.6</td>\n",
       "      <td>93.29</td>\n",
       "      <td>0.03</td>\n",
       "      <td>15661.0</td>\n",
       "      <td>0.49</td>\n",
       "      <td>0.1</td>\n",
       "    </tr>\n",
       "    <tr>\n",
       "      <th>3</th>\n",
       "      <td>b7b7764cfa1c523e4e93ab2a79a946c4</td>\n",
       "      <td>likes how the day sounds in this new song.</td>\n",
       "      <td>2.65</td>\n",
       "      <td>3.0</td>\n",
       "      <td>3.15</td>\n",
       "      <td>3.25</td>\n",
       "      <td>4.4</td>\n",
       "      <td>n</td>\n",
       "      <td>y</td>\n",
       "      <td>n</td>\n",
       "      <td>n</td>\n",
       "      <td>y</td>\n",
       "      <td>06/22/09 04:48 AM</td>\n",
       "      <td>180.0</td>\n",
       "      <td>14861.6</td>\n",
       "      <td>93.29</td>\n",
       "      <td>0.03</td>\n",
       "      <td>15661.0</td>\n",
       "      <td>0.49</td>\n",
       "      <td>0.1</td>\n",
       "    </tr>\n",
       "    <tr>\n",
       "      <th>4</th>\n",
       "      <td>b7b7764cfa1c523e4e93ab2a79a946c4</td>\n",
       "      <td>is home. &lt;3</td>\n",
       "      <td>2.65</td>\n",
       "      <td>3.0</td>\n",
       "      <td>3.15</td>\n",
       "      <td>3.25</td>\n",
       "      <td>4.4</td>\n",
       "      <td>n</td>\n",
       "      <td>y</td>\n",
       "      <td>n</td>\n",
       "      <td>n</td>\n",
       "      <td>y</td>\n",
       "      <td>07/20/09 02:31 AM</td>\n",
       "      <td>180.0</td>\n",
       "      <td>14861.6</td>\n",
       "      <td>93.29</td>\n",
       "      <td>0.03</td>\n",
       "      <td>15661.0</td>\n",
       "      <td>0.49</td>\n",
       "      <td>0.1</td>\n",
       "    </tr>\n",
       "  </tbody>\n",
       "</table>\n",
       "</div>"
      ],
      "text/plain": [
       "                            #AUTHID  \\\n",
       "0  b7b7764cfa1c523e4e93ab2a79a946c4   \n",
       "1  b7b7764cfa1c523e4e93ab2a79a946c4   \n",
       "2  b7b7764cfa1c523e4e93ab2a79a946c4   \n",
       "3  b7b7764cfa1c523e4e93ab2a79a946c4   \n",
       "4  b7b7764cfa1c523e4e93ab2a79a946c4   \n",
       "\n",
       "                                              STATUS  sEXT  sNEU  sAGR  sCON  \\\n",
       "0                        likes the sound of thunder.  2.65   3.0  3.15  3.25   \n",
       "1  is so sleepy it's not even funny that's she ca...  2.65   3.0  3.15  3.25   \n",
       "2  is sore and wants the knot of muscles at the b...  2.65   3.0  3.15  3.25   \n",
       "3         likes how the day sounds in this new song.  2.65   3.0  3.15  3.25   \n",
       "4                                        is home. <3  2.65   3.0  3.15  3.25   \n",
       "\n",
       "   sOPN cEXT cNEU cAGR cCON cOPN               DATE  NETWORKSIZE  BETWEENNESS  \\\n",
       "0   4.4    n    y    n    n    y  06/19/09 03:21 PM        180.0      14861.6   \n",
       "1   4.4    n    y    n    n    y  07/02/09 08:41 AM        180.0      14861.6   \n",
       "2   4.4    n    y    n    n    y  06/15/09 01:15 PM        180.0      14861.6   \n",
       "3   4.4    n    y    n    n    y  06/22/09 04:48 AM        180.0      14861.6   \n",
       "4   4.4    n    y    n    n    y  07/20/09 02:31 AM        180.0      14861.6   \n",
       "\n",
       "   NBETWEENNESS  DENSITY  BROKERAGE  NBROKERAGE  TRANSITIVITY  \n",
       "0         93.29     0.03    15661.0        0.49           0.1  \n",
       "1         93.29     0.03    15661.0        0.49           0.1  \n",
       "2         93.29     0.03    15661.0        0.49           0.1  \n",
       "3         93.29     0.03    15661.0        0.49           0.1  \n",
       "4         93.29     0.03    15661.0        0.49           0.1  "
      ]
     },
     "execution_count": 201,
     "metadata": {},
     "output_type": "execute_result"
    }
   ],
   "source": [
    "data.head()"
   ]
  },
  {
   "cell_type": "markdown",
   "metadata": {},
   "source": [
    "### Pop quiz: What's difference between anonymity and confidentiality? "
   ]
  },
  {
   "cell_type": "markdown",
   "metadata": {},
   "source": [
    "Confidentiality:\n",
    "Participation in an activity such as a research study is confidential. In these cases, participants provide personal information (e.g. name, email address, phone number), and can therefore be linked back to the results. The connection between the participants and the results are known, but the terms of the confidentiality agreement limit those who will know of this connection.\n",
    "\n",
    "Anonymity:\n",
    "In contrast, when participation is anonymous it is impossible to know whether or not an individual participated and, therefore, there is no way to determine the connection between individual participants and the results. "
   ]
  },
  {
   "cell_type": "markdown",
   "metadata": {},
   "source": [
    "### 2. Pop quiz: If that the \"unique identifier\" in the above data, the `#AUTHID`, is a randomly generated key so that it can never be connected back to the original poster. Have we guaranteed anonymity here? Why or why not?"
   ]
  },
  {
   "cell_type": "markdown",
   "metadata": {},
   "source": [
    "Yes, because the key cannot be connected back to the original poster, making it impossible to know who it was."
   ]
  },
  {
   "cell_type": "markdown",
   "metadata": {},
   "source": [
    "### Examples of what you can do as aFacebook engineer to improve how data is used and shared"
   ]
  },
  {
   "cell_type": "markdown",
   "metadata": {},
   "source": [
    "1. Make it so the information can never be tracked back to a user by doing something similar to #AUTHID.\n",
    "2. Make users opt-in to sharing info about themselves, instead of having to opt-out, with advertisers and any other companies looking to use their info.\n",
    "3. Make it so that if users opt-out to sharing their info that they recieve the same level of service minus the targeted advertising."
   ]
  },
  {
   "cell_type": "markdown",
   "metadata": {},
   "source": [
    "## Step 3: Explore the data.\n",
    "\n",
    "- Note: For our $X$ variable, we'll only use the `STATUS` variable. For our $Y$ variable, we'll only use the `cAGR` variable."
   ]
  },
  {
   "cell_type": "code",
   "execution_count": 202,
   "metadata": {},
   "outputs": [
    {
     "data": {
      "text/plain": [
       "array(['n', 'y'], dtype=object)"
      ]
     },
     "execution_count": 202,
     "metadata": {},
     "output_type": "execute_result"
    }
   ],
   "source": [
    "data['cAGR'].unique()"
   ]
  },
  {
   "cell_type": "code",
   "execution_count": 203,
   "metadata": {},
   "outputs": [
    {
     "data": {
      "text/plain": [
       "y    0.531209\n",
       "n    0.468791\n",
       "Name: cAGR, dtype: float64"
      ]
     },
     "execution_count": 203,
     "metadata": {},
     "output_type": "execute_result"
    }
   ],
   "source": [
    "data['cAGR'].value_counts(normalize=True)"
   ]
  },
  {
   "cell_type": "code",
   "execution_count": 204,
   "metadata": {},
   "outputs": [
    {
     "data": {
      "text/html": [
       "<div>\n",
       "<style scoped>\n",
       "    .dataframe tbody tr th:only-of-type {\n",
       "        vertical-align: middle;\n",
       "    }\n",
       "\n",
       "    .dataframe tbody tr th {\n",
       "        vertical-align: top;\n",
       "    }\n",
       "\n",
       "    .dataframe thead th {\n",
       "        text-align: right;\n",
       "    }\n",
       "</style>\n",
       "<table border=\"1\" class=\"dataframe\">\n",
       "  <thead>\n",
       "    <tr style=\"text-align: right;\">\n",
       "      <th></th>\n",
       "      <th>#AUTHID</th>\n",
       "      <th>STATUS</th>\n",
       "      <th>sEXT</th>\n",
       "      <th>sNEU</th>\n",
       "      <th>sAGR</th>\n",
       "      <th>sCON</th>\n",
       "      <th>sOPN</th>\n",
       "      <th>cEXT</th>\n",
       "      <th>cNEU</th>\n",
       "      <th>cAGR</th>\n",
       "      <th>cCON</th>\n",
       "      <th>cOPN</th>\n",
       "      <th>DATE</th>\n",
       "      <th>NETWORKSIZE</th>\n",
       "      <th>BETWEENNESS</th>\n",
       "      <th>NBETWEENNESS</th>\n",
       "      <th>DENSITY</th>\n",
       "      <th>BROKERAGE</th>\n",
       "      <th>NBROKERAGE</th>\n",
       "      <th>TRANSITIVITY</th>\n",
       "    </tr>\n",
       "  </thead>\n",
       "  <tbody>\n",
       "    <tr>\n",
       "      <th>0</th>\n",
       "      <td>b7b7764cfa1c523e4e93ab2a79a946c4</td>\n",
       "      <td>likes the sound of thunder.</td>\n",
       "      <td>2.65</td>\n",
       "      <td>3.0</td>\n",
       "      <td>3.15</td>\n",
       "      <td>3.25</td>\n",
       "      <td>4.4</td>\n",
       "      <td>n</td>\n",
       "      <td>y</td>\n",
       "      <td>0</td>\n",
       "      <td>n</td>\n",
       "      <td>y</td>\n",
       "      <td>06/19/09 03:21 PM</td>\n",
       "      <td>180.0</td>\n",
       "      <td>14861.6</td>\n",
       "      <td>93.29</td>\n",
       "      <td>0.03</td>\n",
       "      <td>15661.0</td>\n",
       "      <td>0.49</td>\n",
       "      <td>0.1</td>\n",
       "    </tr>\n",
       "    <tr>\n",
       "      <th>1</th>\n",
       "      <td>b7b7764cfa1c523e4e93ab2a79a946c4</td>\n",
       "      <td>is so sleepy it's not even funny that's she ca...</td>\n",
       "      <td>2.65</td>\n",
       "      <td>3.0</td>\n",
       "      <td>3.15</td>\n",
       "      <td>3.25</td>\n",
       "      <td>4.4</td>\n",
       "      <td>n</td>\n",
       "      <td>y</td>\n",
       "      <td>0</td>\n",
       "      <td>n</td>\n",
       "      <td>y</td>\n",
       "      <td>07/02/09 08:41 AM</td>\n",
       "      <td>180.0</td>\n",
       "      <td>14861.6</td>\n",
       "      <td>93.29</td>\n",
       "      <td>0.03</td>\n",
       "      <td>15661.0</td>\n",
       "      <td>0.49</td>\n",
       "      <td>0.1</td>\n",
       "    </tr>\n",
       "    <tr>\n",
       "      <th>2</th>\n",
       "      <td>b7b7764cfa1c523e4e93ab2a79a946c4</td>\n",
       "      <td>is sore and wants the knot of muscles at the b...</td>\n",
       "      <td>2.65</td>\n",
       "      <td>3.0</td>\n",
       "      <td>3.15</td>\n",
       "      <td>3.25</td>\n",
       "      <td>4.4</td>\n",
       "      <td>n</td>\n",
       "      <td>y</td>\n",
       "      <td>0</td>\n",
       "      <td>n</td>\n",
       "      <td>y</td>\n",
       "      <td>06/15/09 01:15 PM</td>\n",
       "      <td>180.0</td>\n",
       "      <td>14861.6</td>\n",
       "      <td>93.29</td>\n",
       "      <td>0.03</td>\n",
       "      <td>15661.0</td>\n",
       "      <td>0.49</td>\n",
       "      <td>0.1</td>\n",
       "    </tr>\n",
       "    <tr>\n",
       "      <th>3</th>\n",
       "      <td>b7b7764cfa1c523e4e93ab2a79a946c4</td>\n",
       "      <td>likes how the day sounds in this new song.</td>\n",
       "      <td>2.65</td>\n",
       "      <td>3.0</td>\n",
       "      <td>3.15</td>\n",
       "      <td>3.25</td>\n",
       "      <td>4.4</td>\n",
       "      <td>n</td>\n",
       "      <td>y</td>\n",
       "      <td>0</td>\n",
       "      <td>n</td>\n",
       "      <td>y</td>\n",
       "      <td>06/22/09 04:48 AM</td>\n",
       "      <td>180.0</td>\n",
       "      <td>14861.6</td>\n",
       "      <td>93.29</td>\n",
       "      <td>0.03</td>\n",
       "      <td>15661.0</td>\n",
       "      <td>0.49</td>\n",
       "      <td>0.1</td>\n",
       "    </tr>\n",
       "    <tr>\n",
       "      <th>4</th>\n",
       "      <td>b7b7764cfa1c523e4e93ab2a79a946c4</td>\n",
       "      <td>is home. &lt;3</td>\n",
       "      <td>2.65</td>\n",
       "      <td>3.0</td>\n",
       "      <td>3.15</td>\n",
       "      <td>3.25</td>\n",
       "      <td>4.4</td>\n",
       "      <td>n</td>\n",
       "      <td>y</td>\n",
       "      <td>0</td>\n",
       "      <td>n</td>\n",
       "      <td>y</td>\n",
       "      <td>07/20/09 02:31 AM</td>\n",
       "      <td>180.0</td>\n",
       "      <td>14861.6</td>\n",
       "      <td>93.29</td>\n",
       "      <td>0.03</td>\n",
       "      <td>15661.0</td>\n",
       "      <td>0.49</td>\n",
       "      <td>0.1</td>\n",
       "    </tr>\n",
       "  </tbody>\n",
       "</table>\n",
       "</div>"
      ],
      "text/plain": [
       "                            #AUTHID  \\\n",
       "0  b7b7764cfa1c523e4e93ab2a79a946c4   \n",
       "1  b7b7764cfa1c523e4e93ab2a79a946c4   \n",
       "2  b7b7764cfa1c523e4e93ab2a79a946c4   \n",
       "3  b7b7764cfa1c523e4e93ab2a79a946c4   \n",
       "4  b7b7764cfa1c523e4e93ab2a79a946c4   \n",
       "\n",
       "                                              STATUS  sEXT  sNEU  sAGR  sCON  \\\n",
       "0                        likes the sound of thunder.  2.65   3.0  3.15  3.25   \n",
       "1  is so sleepy it's not even funny that's she ca...  2.65   3.0  3.15  3.25   \n",
       "2  is sore and wants the knot of muscles at the b...  2.65   3.0  3.15  3.25   \n",
       "3         likes how the day sounds in this new song.  2.65   3.0  3.15  3.25   \n",
       "4                                        is home. <3  2.65   3.0  3.15  3.25   \n",
       "\n",
       "   sOPN cEXT cNEU  cAGR cCON cOPN               DATE  NETWORKSIZE  \\\n",
       "0   4.4    n    y     0    n    y  06/19/09 03:21 PM        180.0   \n",
       "1   4.4    n    y     0    n    y  07/02/09 08:41 AM        180.0   \n",
       "2   4.4    n    y     0    n    y  06/15/09 01:15 PM        180.0   \n",
       "3   4.4    n    y     0    n    y  06/22/09 04:48 AM        180.0   \n",
       "4   4.4    n    y     0    n    y  07/20/09 02:31 AM        180.0   \n",
       "\n",
       "   BETWEENNESS  NBETWEENNESS  DENSITY  BROKERAGE  NBROKERAGE  TRANSITIVITY  \n",
       "0      14861.6         93.29     0.03    15661.0        0.49           0.1  \n",
       "1      14861.6         93.29     0.03    15661.0        0.49           0.1  \n",
       "2      14861.6         93.29     0.03    15661.0        0.49           0.1  \n",
       "3      14861.6         93.29     0.03    15661.0        0.49           0.1  \n",
       "4      14861.6         93.29     0.03    15661.0        0.49           0.1  "
      ]
     },
     "execution_count": 204,
     "metadata": {},
     "output_type": "execute_result"
    }
   ],
   "source": [
    "data['cAGR'] = data['cAGR'].map({'n': 0, 'y': 1})\n",
    "data.head()"
   ]
  },
  {
   "cell_type": "code",
   "execution_count": 205,
   "metadata": {},
   "outputs": [
    {
     "data": {
      "text/plain": [
       "#AUTHID         0\n",
       "STATUS          0\n",
       "sEXT            0\n",
       "sNEU            0\n",
       "sAGR            0\n",
       "sCON            0\n",
       "sOPN            0\n",
       "cEXT            0\n",
       "cNEU            0\n",
       "cAGR            0\n",
       "cCON            0\n",
       "cOPN            0\n",
       "DATE            0\n",
       "NETWORKSIZE     0\n",
       "BETWEENNESS     0\n",
       "NBETWEENNESS    0\n",
       "DENSITY         0\n",
       "BROKERAGE       0\n",
       "NBROKERAGE      0\n",
       "TRANSITIVITY    1\n",
       "dtype: int64"
      ]
     },
     "execution_count": 205,
     "metadata": {},
     "output_type": "execute_result"
    }
   ],
   "source": [
    "data.isnull().sum()"
   ]
  },
  {
   "cell_type": "code",
   "execution_count": 206,
   "metadata": {
    "scrolled": true
   },
   "outputs": [],
   "source": [
    "data = data.dropna(inplace = True)"
   ]
  },
  {
   "cell_type": "code",
   "execution_count": 207,
   "metadata": {},
   "outputs": [],
   "source": [
    "# Split dataa into training and testing sets.\n",
    "X_train, X_test, y_train, y_test = train_test_split(X, y, random_state=42, stratify=y)\n",
    "\n",
    "# Instantiate CountVectorizer.\n",
    "cv = CountVectorizer()\n",
    "\n",
    "# Fit CountVectorizer to training data.\n",
    "cv.fit(X_train)\n",
    "\n",
    "# Transform training and testing data based on the fit CountVectorizer.\n",
    "X_train_cv = cv.transform(X_train)\n",
    "X_test_cv = cv.transform(X_test)"
   ]
  },
  {
   "cell_type": "code",
   "execution_count": 208,
   "metadata": {},
   "outputs": [],
   "source": [
    "# Create a DataFrame with our words.\n",
    "words = pd.DataFrame(X_train_cv.todense(), columns=cv.get_feature_names())"
   ]
  },
  {
   "cell_type": "code",
   "execution_count": 209,
   "metadata": {},
   "outputs": [
    {
     "data": {
      "text/plain": [
       "propname    981\n",
       "day         392\n",
       "like        382\n",
       "get         366\n",
       "one         349\n",
       "go          327\n",
       "time        325\n",
       "going       318\n",
       "today       310\n",
       "back        295\n",
       "new         291\n",
       "work        280\n",
       "good        278\n",
       "got         233\n",
       "night       224\n",
       "know        211\n",
       "love        208\n",
       "tomorrow    206\n",
       "people      199\n",
       "see         198\n",
       "dtype: int64"
      ]
     },
     "execution_count": 209,
     "metadata": {},
     "output_type": "execute_result"
    }
   ],
   "source": [
    "# Let's look at the most frequently used words.\n",
    "words.sum().sort_values(ascending=False).head(20)"
   ]
  },
  {
   "cell_type": "code",
   "execution_count": 210,
   "metadata": {
    "scrolled": true
   },
   "outputs": [
    {
     "data": {
      "image/png": "[encoded data removed]",
      "text/plain": [
       "<Figure size 432x288 with 1 Axes>"
      ]
     },
     "metadata": {
      "needs_background": "light"
     },
     "output_type": "display_data"
    }
   ],
   "source": [
    "# Plot the lengths of the words.\n",
    "lengths_of_words = [len(each) for each in words.columns]\n",
    "plt.hist(lengths_of_words)\n",
    "plt.title('Histogram of Word Lengths');"
   ]
  },
  {
   "cell_type": "code",
   "execution_count": 211,
   "metadata": {},
   "outputs": [
    {
     "data": {
      "image/png": "[encoded data removed]",
      "text/plain": [
       "<Figure size 432x288 with 1 Axes>"
      ]
     },
     "metadata": {
      "needs_background": "light"
     },
     "output_type": "display_data"
    }
   ],
   "source": [
    "# Plot the lengths of the posts.\n",
    "lengths_of_posts = [len(each) for each in X]\n",
    "plt.hist(lengths_of_posts)\n",
    "plt.title('Histogram of Post Lengths');"
   ]
  },
  {
   "cell_type": "markdown",
   "metadata": {},
   "source": [
    "### CountVectorizer and TFIDFVectorizer"
   ]
  },
  {
   "cell_type": "markdown",
   "metadata": {},
   "source": [
    "In CountVectorizer, we only count the number of times a word appears in documents, which results in biasing in favour of most frequent words. This approach ends up in ignoring rare words, which could help process our data more efficiently.\n",
    "\n",
    "In TfidfVectorizer we consider overall document weightage of a word. It penalizes words that are used with greater frequencey between documents. A TF-IDF score tells us which words are most differentiating between documents. Words that occur often in one document but don't occur in many documents contain a great deal of predictive power. Consequently, it gives greater weigh to words that are rarer relative to all documents."
   ]
  },
  {
   "cell_type": "markdown",
   "metadata": {},
   "source": [
    "### Stopwords"
   ]
  },
  {
   "cell_type": "markdown",
   "metadata": {},
   "source": [
    "Stopwords are commonly used words that provide little to no informational value. By removing them, it's easier to focus on the words that truly differentiate one document from the next.\n",
    "\n",
    "If we think these words don't help explain our  𝑌  variable, we might remove them. \n",
    "\n",
    "(For example, in sentiment analysis, we might not think that people who use \"the\" more or less frequently are happier or angrier.)\n",
    "\n",
    "If we think these words do help explain our  𝑌  variable, we might keep them. \n",
    "\n",
    "(For example, if we're classifying the era of a poem, the frequency of the word \"the\" may be helpful information!)"
   ]
  },
  {
   "cell_type": "markdown",
   "metadata": {},
   "source": [
    "## Step 4: Model the data.\n",
    "\n",
    "We are going to fit two types of models: a logistic regression and [a Naive Bayes classifier](https://scikit-learn.org/stable/modules/naive_bayes.html).\n",
    "\n",
    "**Reminder:** We will only use the feature `STATUS` to model `cAGR`."
   ]
  },
  {
   "cell_type": "markdown",
   "metadata": {},
   "source": [
    "### We'll attempt to fit our models on sixteen sets of features:\n",
    "\n",
    "1. CountVectorizer with 100 features, with English stopwords removed and with an `ngram_range` that includes 1 and 2.\n",
    "2. CountVectorizer with 100 features, with English stopwords removed and with the default `ngram_range`.\n",
    "3. CountVectorizer with 100 features, with English stopwords kept in and with an `ngram_range` that includes 1 and 2.\n",
    "4. CountVectorizer with 100 features, with English stopwords kept in and with the default `ngram_range`.\n",
    "5. CountVectorizer with 500 features, with English stopwords removed and with an `ngram_range` that includes 1 and 2.\n",
    "6. CountVectorizer with 500 features, with English stopwords removed and with the default `ngram_range`.\n",
    "7. CountVectorizer with 500 features, with English stopwords kept in and with an `ngram_range` that includes 1 and 2.\n",
    "8. CountVectorizer with 500 features, with English stopwords kept in and with the default `ngram_range`.\n",
    "9. TFIDFVectorizer with 100 features, with English stopwords removed and with an `ngram_range` that includes 1 and 2.\n",
    "10. TFIDFVectorizer with 100 features, with English stopwords removed and with the default `ngram_range`.\n",
    "11. TFIDFVectorizer with 100 features, with English stopwords kept in and with an `ngram_range` that includes 1 and 2.\n",
    "12. TFIDFVectorizer with 100 features, with English stopwords kept in and with the default `ngram_range`.\n",
    "13. TFIDFVectorizer with 500 features, with English stopwords removed and with an `ngram_range` that includes 1 and 2.\n",
    "14. TFIDFVectorizer with 500 features, with English stopwords removed and with the default `ngram_range`.\n",
    "15. TFIDFVectorizer with 500 features, with English stopwords kept in and with an `ngram_range` that includes 1 and 2.\n",
    "16. TFIDFVectorizer with 500 features, with English stopwords kept in and with the default `ngram_range`.\n",
    "\n",
    "### Rather than manually instantiating 16 different vectorizers, we'll use pipelines to make things easier on ourselves!"
   ]
  },
  {
   "cell_type": "code",
   "execution_count": 212,
   "metadata": {},
   "outputs": [
    {
     "name": "stdout",
     "output_type": "stream",
     "text": [
      "GridSearch score with CountVectorized features on training set is 0.6195.\n",
      "\n",
      "GridSearch score with CountVectorized features on testing set is 0.5434.\n"
     ]
    }
   ],
   "source": [
    "# Instantiate pipeline.\n",
    "pipe_cv = Pipeline([\n",
    "    ('cv', CountVectorizer()),\n",
    "    ('lr', LogisticRegression(solver = 'lbfgs'))\n",
    "])\n",
    "\n",
    "# Define grid of parameters to GridSearch over.\n",
    "params_grid = {\n",
    "    'cv__max_features': [100, 500],\n",
    "    'cv__stop_words': ['english', None],\n",
    "    'cv__ngram_range': [(1,1), (1,2)]\n",
    "}\n",
    "\n",
    "# GridSearch over pipeline with given grid of parameters.\n",
    "gs_cv = GridSearchCV(pipe_cv, params_grid, cv=5)\n",
    "\n",
    "# Fit model.\n",
    "gs_cv.fit(X_train, y_train)\n",
    "\n",
    "print(f'GridSearch score with CountVectorized features on training set is {round(gs_cv.score(X_train, y_train), 4)}.')\n",
    "print()\n",
    "print(f'GridSearch score with CountVectorized features on testing set is {round(gs_cv.score(X_test, y_test), 4)}.')"
   ]
  },
  {
   "cell_type": "code",
   "execution_count": 213,
   "metadata": {},
   "outputs": [
    {
     "name": "stdout",
     "output_type": "stream",
     "text": [
      "GridSearch score with TFIDFVectorized features on training set is 0.6189.\n",
      "\n",
      "GridSearch score with TFIDFVectorized features on testing set is 0.5426.\n"
     ]
    }
   ],
   "source": [
    "# Instantiate pipeline.\n",
    "pipe_tf = Pipeline([\n",
    "    ('tf', TfidfVectorizer()),\n",
    "    ('lr', LogisticRegression())\n",
    "])\n",
    "\n",
    "# Define grid of parameters to GridSearch over.\n",
    "params_grid = {\n",
    "    'tf__max_features': [100, 500],\n",
    "    'tf__stop_words': ['english', None],\n",
    "    'tf__ngram_range': [(1,1), (1,2)]\n",
    "}\n",
    "\n",
    "# GridSearch over pipeline with given grid of parameters.\n",
    "gs_tf = GridSearchCV(pipe_tf, params_grid, cv=5)\n",
    "\n",
    "# Fit model.\n",
    "gs_tf.fit(X_train, y_train)\n",
    "\n",
    "print(f'GridSearch score with TFIDFVectorized features on training set is {round(gs_tf.score(X_train, y_train),4)}.')\n",
    "print()\n",
    "print(f'GridSearch score with TFIDFVectorized features on testing set is {round(gs_tf.score(X_test, y_test),4)}.')"
   ]
  },
  {
   "cell_type": "markdown",
   "metadata": {},
   "source": [
    "### Advantages to fitting a logistic regression model"
   ]
  },
  {
   "cell_type": "markdown",
   "metadata": {},
   "source": [
    "- Logistic regression models are fast to fit.\n",
    "- Logistic regression models allow for us to interpret coefficients and the association between individual independent variables and the dependent variable. (Though it takes some computation to interpret them.)\n",
    "- Logistic regression models are more widely used and thus better understood than other techniques.\n",
    "- Logistic regression models often perform on par with or better than more \"complex\"/unfamiliar machine learning methods."
   ]
  },
  {
   "cell_type": "markdown",
   "metadata": {},
   "source": [
    "### Let's fit a logistic regression model and compare it to the baseline"
   ]
  },
  {
   "cell_type": "code",
   "execution_count": 214,
   "metadata": {},
   "outputs": [
    {
     "data": {
      "text/plain": [
       "1    0.531128\n",
       "0    0.468872\n",
       "Name: cAGR, dtype: float64"
      ]
     },
     "execution_count": 214,
     "metadata": {},
     "output_type": "execute_result"
    }
   ],
   "source": [
    "# baseline performance.\n",
    "y_train.value_counts(normalize=True)"
   ]
  },
  {
   "cell_type": "code",
   "execution_count": 215,
   "metadata": {},
   "outputs": [],
   "source": [
    "# Grab best estimator from gs_cv.\n",
    "lr_model = gs_cv.estimator"
   ]
  },
  {
   "cell_type": "code",
   "execution_count": 216,
   "metadata": {},
   "outputs": [
    {
     "data": {
      "text/plain": [
       "Pipeline(steps=[('cv', CountVectorizer()), ('lr', LogisticRegression())])"
      ]
     },
     "execution_count": 216,
     "metadata": {},
     "output_type": "execute_result"
    }
   ],
   "source": [
    "# Fit model.\n",
    "lr_model.fit(X_train, y_train)"
   ]
  },
  {
   "cell_type": "code",
   "execution_count": 219,
   "metadata": {},
   "outputs": [
    {
     "name": "stdout",
     "output_type": "stream",
     "text": [
      "Training accuracy score for our logistic regression model is: 0.9107.\n",
      "Testing accuracy score for our logistic regression model is: 0.5845.\n"
     ]
    }
   ],
   "source": [
    "print(f'Training accuracy score for our logistic regression model is: {round(lr_model.score(X_train, y_train),4)}.')\n",
    "print(f'Testing accuracy score for our logistic regression model is: {round(lr_model.score(X_test, y_test),4)}.')"
   ]
  },
  {
   "cell_type": "markdown",
   "metadata": {},
   "source": [
    "### Naive Bayes \n",
    "\n",
    "A classification technique that relies on probability to classify observations:\n",
    "- It's based on a probability rule called **Bayes' Theorem**... thus, \"**Bayes**.\"\n",
    "- It makes an assumption that isn't often met, so it's \"**naive**.\"\n",
    "\n",
    "Despite being a model that relies on a naive assumption, it often performs pretty well! \n",
    "\n",
    "(This is kind of like linear regression... we aren't always guaranteed homoscedastic errors in linear regression, but the model might still do a good job regardless.)\n",
    "\n",
    "- [Read more here if you're interested.](https://www.cs.unb.ca/~hzhang/publications/FLAIRS04ZhangH.pdf)\n",
    "\n",
    "#### Bayes' Theorem\n",
    "If you've seen Bayes' Theorem, it relates the probability of $P(A|B)$ to $P(B|A)$. \n",
    "\n",
    "$$\n",
    "\\begin{eqnarray*}\n",
    "\\text{Bayes' Theorem: } P(A|B) &=& \\frac{P(B|A)P(A)}{P(B)}\n",
    "\\end{eqnarray*}\n",
    "$$\n",
    "\n",
    "- Let $A$ be that someone is \"agreeable,\" like the OCEAN category.\n",
    "- Let $B$ represent the words used in their Facebook post.\n",
    "\n",
    "$$\n",
    "\\begin{eqnarray*}\n",
    "\\text{Bayes' Theorem: } P(A|B) &=& \\frac{P(B|A)P(A)}{P(B)} \\\\\n",
    "\\Rightarrow P(\\text{person is agreeable}|\\text{words in Facebook post}) &=& \\frac{P(\\text{words in Facebook post}|\\text{person is agreeable})P(\\text{person is agreeable})}{P(\\text{words in Facebook post})}\n",
    "\\end{eqnarray*}\n",
    "$$\n",
    "\n",
    "We want to calculate the probability that someone is agreeable **given** the words that they used in their Facebook post! \n",
    "\n",
    "(Rather than calculating this probability by hand, this is done under the hood and we can just see the results by checking `.predict_proba()`.) However, this is exactly what our model is doing. We can (a.k.a. the model can) calculate the pieces on the right-hand side of the equation to give us a probability estimate of how likely someone is to be agreeable given their Facebook post.\n",
    "\n",
    "#### Naive Assumption\n",
    "\n",
    "If our goal is to estimate $P(\\text{person is agreeable}|\\text{words in Facebook post})$, that can be quite tricky.\n",
    "\n",
    "To simplify matters, we make an assumption: **we assume that all of our features are independent of one another.**\n",
    "\n",
    "In some contexts, this assumption might be realistic!"
   ]
  },
  {
   "cell_type": "markdown",
   "metadata": {},
   "source": [
    "### Why would this assumption not be realistic with NLP data?\n",
    "\n",
    "Because the meaning of a sentence is dependent on the words within it. \n",
    "\n",
    "Text has little to no meaning without taking into the consideration the words that come before and after it."
   ]
  },
  {
   "cell_type": "markdown",
   "metadata": {},
   "source": [
    "Despite this assumption not being realistic with NLP data, we still use Naive Bayes pretty frequently.\n",
    "- It's a very fast modeling algorithm. (which is great especially when we have lots of features and/or lots of data!)\n",
    "- It is often an excellent classifier, outperforming more complicated models.\n",
    "\n",
    "There are three common types of Naive Bayes models: Bernoulli Naive Bayes, Multinomial Naive Bayes, and Gaussian Naive Bayes.\n",
    "- How do we pick which of the three models to use? It depends on our $X$ variable.\n",
    "    - Bernoulli Naive Bayes is appropriate when our features are all 0/1 variables.\n",
    "        - [Bernoulli NB Documentation](https://scikit-learn.org/stable/modules/generated/sklearn.naive_bayes.BernoulliNB.html#sklearn.naive_bayes.BernoulliNB)\n",
    "    - Multinomial Naive Bayes is appropriate when our features are variables that take on only positive integer counts.\n",
    "        - [Multinomial NB Documentation](https://scikit-learn.org/stable/modules/generated/sklearn.naive_bayes.MultinomialNB.html#sklearn.naive_bayes.MultinomialNB)\n",
    "    - Gaussian Naive Bayes is appropriate when our features are Normally distributed variables. (Realistically, though, we kind of use Gaussian whenever neither Bernoulli nor Multinomial works.)\n",
    "        - [Gaussian NB Documentation](https://scikit-learn.org/stable/modules/generated/sklearn.naive_bayes.GaussianNB.html#sklearn.naive_bayes.GaussianNB)"
   ]
  },
  {
   "cell_type": "markdown",
   "metadata": {},
   "source": [
    "### If we're going CountVectorize our features, we'd use  Multinomial Naive Bayes..."
   ]
  },
  {
   "cell_type": "markdown",
   "metadata": {},
   "source": [
    "Because the the variables are integer counts."
   ]
  },
  {
   "cell_type": "code",
   "execution_count": 220,
   "metadata": {},
   "outputs": [
    {
     "name": "stdout",
     "output_type": "stream",
     "text": [
      "Training accuracy score for our Multinomial Naive Bayes model is: 0.8674.\n",
      "\n",
      "Testing accuracy score for our Multinomial Naive Bayes model is: 0.6123.\n"
     ]
    }
   ],
   "source": [
    "# Instantiate Multinomial Naive Bayes model.\n",
    "mnb = MultinomialNB()\n",
    "\n",
    "# Fit model.\n",
    "mnb.fit(X_train_cv, y_train)\n",
    "\n",
    "# Evaluate predictions.\n",
    "print(f'Training accuracy score for our Multinomial Naive Bayes model is: {round(mnb.score(X_train_cv, y_train),4)}.')\n",
    "print()\n",
    "print(f'Testing accuracy score for our Multinomial Naive Bayes model is: {round(mnb.score(X_test_cv, y_test),4)}.')"
   ]
  },
  {
   "cell_type": "markdown",
   "metadata": {},
   "source": [
    "### 14. If we TFIDFVectorize oour features, we'd use  Gaussian Naive Bayes..."
   ]
  },
  {
   "cell_type": "markdown",
   "metadata": {},
   "source": [
    "Because X is a float and also not a count."
   ]
  },
  {
   "cell_type": "code",
   "execution_count": 221,
   "metadata": {},
   "outputs": [
    {
     "name": "stdout",
     "output_type": "stream",
     "text": [
      "Training accuracy score for our Gaussian Naive Bayes model is: 0.8653.\n",
      "\n",
      "Testing accuracy score for our Gaussian Naive Bayes model is: 0.5409.\n"
     ]
    }
   ],
   "source": [
    "# Instantiate TFIDFVectorizer.\n",
    "tf = TfidfVectorizer()\n",
    "\n",
    "# Fit vectorizer.\n",
    "tf.fit(X_train, y_train)\n",
    "\n",
    "# Transform training and testing sets.\n",
    "X_train_tf = tf.transform(X_train).todense()\n",
    "X_test_tf = tf.transform(X_test).todense()\n",
    "\n",
    "# Instantiate Gaussian Naive Bayes model.\n",
    "gnb = GaussianNB()\n",
    "\n",
    "# Fit model.\n",
    "gnb.fit(X_train_tf, y_train)\n",
    "\n",
    "# Evaluate predictions,\n",
    "print(f'Training accuracy score for our Gaussian Naive Bayes model is: {round(gnb.score(X_train_tf, y_train),4)}.')\n",
    "print()\n",
    "print(f'Testing accuracy score for our Gaussian Naive Bayes model is: {round(gnb.score(X_test_tf, y_test),4)}.')"
   ]
  },
  {
   "cell_type": "markdown",
   "metadata": {},
   "source": [
    "### 15. Which model the performanced the best?"
   ]
  },
  {
   "cell_type": "code",
   "execution_count": 222,
   "metadata": {},
   "outputs": [
    {
     "name": "stdout",
     "output_type": "stream",
     "text": [
      "The accuracy of a baseline model would be about 0.5311.\n",
      "\n",
      "Training accuracy score for our logistic regression model is: 0.9107.\n",
      "\n",
      "Testing accuracy score for our logistic regression model is: 0.5845.\n",
      "\n",
      "Training accuracy score for our Multinomial Naive Bayes model is: 0.8674.\n",
      "\n",
      "Testing accuracy score for our Multinomial Naive Bayes model is: 0.6123.\n",
      "\n",
      "Training accuracy score for our Gaussian Naive Bayes model is: 0.8653.\n",
      "\n",
      "Testing accuracy score for our Gaussian Naive Bayes model is: 0.5409.\n"
     ]
    }
   ],
   "source": [
    "print(f'The accuracy of a baseline model would be about {round(y_train.value_counts(normalize=True)[1],4)}.')\n",
    "print()\n",
    "print(f'Training accuracy score for our logistic regression model is: {round(lr_model.score(X_train, y_train),4)}.')\n",
    "print()\n",
    "print(f'Testing accuracy score for our logistic regression model is: {round(lr_model.score(X_test, y_test),4)}.')\n",
    "print()\n",
    "print(f'Training accuracy score for our Multinomial Naive Bayes model is: {round(mnb.score(X_train_cv, y_train),4)}.')\n",
    "print()\n",
    "print(f'Testing accuracy score for our Multinomial Naive Bayes model is: {round(mnb.score(X_test_cv, y_test),4)}.')\n",
    "print()\n",
    "print(f'Training accuracy score for our Gaussian Naive Bayes model is: {round(gnb.score(X_train_tf, y_train),4)}.')\n",
    "print()\n",
    "print(f'Testing accuracy score for our Gaussian Naive Bayes model is: {round(gnb.score(X_test_tf, y_test),4)}.')"
   ]
  },
  {
   "cell_type": "markdown",
   "metadata": {},
   "source": [
    "It looks like our MNB model perfromed the best with 61%, which is 8 points above baseline or a 14.6% increase."
   ]
  },
  {
   "cell_type": "markdown",
   "metadata": {},
   "source": [
    "### Circling back to Cambridge Analytica, how effective was their approach at using Facebook data to model agreeableness?"
   ]
  },
  {
   "cell_type": "markdown",
   "metadata": {},
   "source": [
    "Not very!"
   ]
  }
 ],
 "metadata": {
  "kernelspec": {
   "display_name": "Python 3",
   "language": "python",
   "name": "python3"
  },
  "language_info": {
   "codemirror_mode": {
    "name": "ipython",
    "version": 3
   },
   "file_extension": ".py",
   "mimetype": "text/x-python",
   "name": "python",
   "nbconvert_exporter": "python",
   "pygments_lexer": "ipython3",
   "version": "3.8.8"
  }
 },
 "nbformat": 4,
 "nbformat_minor": 2
}
